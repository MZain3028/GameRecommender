{
  "cells": [
    {
      "cell_type": "code",
      "execution_count": 319,
      "id": "c79d406d",
      "metadata": {
        "colab": {
          "base_uri": "https://localhost:8080/"
        },
        "id": "c79d406d",
        "outputId": "157004f9-2cdc-4bdf-a3a1-16d980393909"
      },
      "outputs": [
        {
          "name": "stdout",
          "output_type": "stream",
          "text": [
            "   Rank                      Name  Platform    Year  Genre  Publisher  \\\n",
            "0     0                Wii Sports        26  2006.0     10        359   \n",
            "1     1         Super Mario Bros.        11  1985.0      4        359   \n",
            "2     2            Mario Kart Wii        26  2008.0      6        359   \n",
            "3     3         Wii Sports Resort        26  2009.0     10        359   \n",
            "4     4  Pokemon Red/Pokemon Blue         5  1996.0      7        359   \n",
            "\n",
            "   NA_Sales  EU_Sales  JP_Sales  Other_Sales  Global_Sales  \n",
            "0     41.49     29.02      3.77         8.46         82.74  \n",
            "1     29.08      3.58      6.81         0.77         40.24  \n",
            "2     15.85     12.88      3.79         3.31         35.82  \n",
            "3     15.75     11.01      3.28         2.96         33.00  \n",
            "4     11.27      8.89     10.22         1.00         31.37  \n"
          ]
        }
      ],
      "source": [
        "import pandas as pd\n",
        "from sklearn.preprocessing import LabelEncoder, MinMaxScaler\n",
        "from sklearn.feature_selection import SelectKBest, f_classif\n",
        "from sklearn.ensemble import RandomForestRegressor\n",
        "from sklearn.neighbors import KNeighborsRegressor\n",
        "from sklearn.linear_model import LinearRegression\n",
        "import numpy as np\n",
        "\n",
        "# Load the dataset\n",
        "gamedf = pd.read_csv(r\"C:\\Users\\Zain\\Downloads\\GameRecommender-main\\GameRecommender-main\\vgsales.csv\")\n",
        "temp_gamedf = pd.read_csv(r\"C:\\Users\\Zain\\Downloads\\GameRecommender-main\\GameRecommender-main\\vgsales.csv\")\n",
        "\n",
        "# Label encoding for string columns\n",
        "label_encoder = LabelEncoder()\n",
        "string_columns = gamedf.select_dtypes(include=['object']).columns\n",
        "string_columns = string_columns.drop('Name')\n",
        "for column in string_columns:\n",
        "    temp_gamedf[column] = label_encoder.fit_transform(temp_gamedf[column])\n",
        "print(temp_gamedf.head())"
      ]
    },
    {
      "cell_type": "code",
      "execution_count": 320,
      "id": "FcpEhCIUSKP_",
      "metadata": {
        "colab": {
          "base_uri": "https://localhost:8080/"
        },
        "id": "FcpEhCIUSKP_",
        "outputId": "98d35b7e-622d-4ba3-900c-036cbc9120ee"
      },
      "outputs": [
        {
          "name": "stdout",
          "output_type": "stream",
          "text": [
            "   Rank                      Name  Platform   Year     Genre  Publisher  \\\n",
            "0     0                Wii Sports  0.866667  0.650  0.909091   0.621107   \n",
            "1     1         Super Mario Bros.  0.366667  0.125  0.363636   0.621107   \n",
            "2     2            Mario Kart Wii  0.866667  0.700  0.545455   0.621107   \n",
            "3     3         Wii Sports Resort  0.866667  0.725  0.909091   0.621107   \n",
            "4     4  Pokemon Red/Pokemon Blue  0.166667  0.400  0.636364   0.621107   \n",
            "\n",
            "   NA_Sales  EU_Sales  JP_Sales  Other_Sales  Global_Sales  \n",
            "0  1.000000  1.000000  0.368885     0.800378      1.000000  \n",
            "1  0.700892  0.123363  0.666341     0.072848      0.486281  \n",
            "2  0.382020  0.443832  0.370841     0.313150      0.432854  \n",
            "3  0.379610  0.379394  0.320939     0.280038      0.398767  \n",
            "4  0.271632  0.306340  1.000000     0.094607      0.379064  \n"
          ]
        }
      ],
      "source": [
        "#scaling for numerical columns\n",
        "numerical_columns = temp_gamedf.select_dtypes(include=['float64', 'int64', 'int32']).columns\n",
        "numerical_columns = numerical_columns.drop('Rank')\n",
        "scaler = MinMaxScaler()\n",
        "temp_gamedf[numerical_columns] = scaler.fit_transform(temp_gamedf[numerical_columns])\n",
        "print(temp_gamedf.head())"
      ]
    },
    {
      "cell_type": "code",
      "execution_count": 321,
      "id": "710090fc",
      "metadata": {
        "colab": {
          "base_uri": "https://localhost:8080/"
        },
        "id": "710090fc",
        "outputId": "8d13c046-10c6-4825-ee30-5c02f2188082"
      },
      "outputs": [
        {
          "name": "stdout",
          "output_type": "stream",
          "text": [
            "               Rank      Platform          Year         Genre     Publisher  \\\n",
            "count  16327.000000  16327.000000  16327.000000  16327.000000  16327.000000   \n",
            "mean    8291.868194      0.526488      0.660161      0.447814      0.506908   \n",
            "std     4792.669778      0.279071      0.145725      0.341893      0.306924   \n",
            "min        0.000000      0.000000      0.000000      0.000000      0.000000   \n",
            "25%     4135.500000      0.233333      0.575000      0.090909      0.237024   \n",
            "50%     8294.000000      0.533333      0.675000      0.454545      0.558824   \n",
            "75%    12440.500000      0.700000      0.750000      0.727273      0.788927   \n",
            "max    16599.000000      1.000000      1.000000      1.000000      1.000000   \n",
            "\n",
            "           NA_Sales      EU_Sales      JP_Sales   Other_Sales  Global_Sales  \n",
            "count  16327.000000  16327.000000  16327.000000  16327.000000  16327.000000  \n",
            "mean       0.006397      0.005085      0.007697      0.004572      0.006409  \n",
            "std        0.019802      0.017532      0.030485      0.017965      0.018926  \n",
            "min        0.000000      0.000000      0.000000      0.000000      0.000000  \n",
            "25%        0.000000      0.000000      0.000000      0.000000      0.000604  \n",
            "50%        0.001928      0.000689      0.000000      0.000946      0.001934  \n",
            "75%        0.005785      0.003790      0.003914      0.003784      0.005681  \n",
            "max        1.000000      1.000000      1.000000      1.000000      1.000000  \n",
            "Index(['Year', 'Genre', 'Publisher', 'JP_Sales', 'Global_Sales'], dtype='object')\n"
          ]
        }
      ],
      "source": [
        "from sklearn.feature_selection import SelectKBest, f_classif\n",
        "import pandas as pd\n",
        "import numpy as np\n",
        "X = temp_gamedf.drop('Name', axis=1).dropna()\n",
        "y = temp_gamedf['Name'].dropna()\n",
        "print(X.describe())\n",
        "common_indices = X.index.intersection(y.index)\n",
        "\n",
        "X = X.loc[common_indices]\n",
        "y = y.loc[common_indices]\n",
        "\n",
        "X = X.dropna()\n",
        "\n",
        "selector = SelectKBest(score_func=f_classif, k=5)\n",
        "\n",
        "X_selected = selector.fit_transform(X, y)\n",
        "\n",
        "selected_feature_indices = selector.get_support(indices=True)\n",
        "\n",
        "selected_feature_names = X.columns[selected_feature_indices]\n",
        "print(selected_feature_names)\n"
      ]
    },
    {
      "cell_type": "code",
      "execution_count": 322,
      "id": "UT3hcHl8SKQA",
      "metadata": {
        "id": "UT3hcHl8SKQA"
      },
      "outputs": [],
      "source": [
        "from sklearn.metrics import r2_score\n",
        "\n",
        "def Similarity(n1, temp_gamedf, selected_features):\n",
        "    print('Similarity Checkpoint 1')\n",
        "    X_train = temp_gamedf[selected_features].dropna()\n",
        "    y_train = temp_gamedf.loc[X_train.index, 'Rank']\n",
        "\n",
        "    rf_model = RandomForestRegressor(n_estimators=100, random_state=42)\n",
        "    knn_model = KNeighborsRegressor(n_neighbors=5)\n",
        "    lr_model = LinearRegression()\n",
        "    print('X_train')\n",
        "    print(X_train)\n",
        "    print('Similarity Checkpoint 2')\n",
        "    rf_model.fit(X_train.values, y_train.values)\n",
        "    knn_model.fit(X_train.values, y_train.values)\n",
        "    lr_model.fit(X_train.values, y_train.values)\n",
        "    print('Similarity Checkpoint 3')\n",
        "\n",
        "    print('n1')\n",
        "    print(n1)\n",
        "\n",
        "    print('Similarity Checkpoint 5')\n",
        "    rf_predictions = rf_model.predict(n1)\n",
        "    knn_predictions = knn_model.predict(n1)\n",
        "    lr_predictions = lr_model.predict(n1)\n",
        "\n",
        "    print('Similarity Checkpoint 6')\n",
        "    rf_similarity = np.abs(rf_predictions - rf_model.predict(X_train.values))\n",
        "    #knn_similarity = np.abs(knn_predictions - knn_model.predict(X_train.values))\n",
        "    #lr_similarity = np.abs(lr_predictions - lr_model.predict(X_train.values))\n",
        "\n",
        "    print('Similarity Checkpoint 7')\n",
        "    max_similarity = np.max(np.vstack([rf_similarity]), axis=0)\n",
        "    rf_r2 = r2_score(y_train, rf_model.predict(X_train.values))\n",
        "    knn_r2 = r2_score(y_train, knn_model.predict(X_train.values))\n",
        "    lr_r2 = r2_score(y_train, lr_model.predict(X_train.values))\n",
        "\n",
        "    print(f'Random Forest R-squared: {rf_r2}')\n",
        "    print(f'KNN R-squared: {knn_r2}')\n",
        "    print(f'Linear Regression R-squared: {lr_r2}')\n",
        "    return max_similarity\n"
      ]
    },
    {
      "cell_type": "code",
      "execution_count": 323,
      "id": "R-Y3BJnKSKQA",
      "metadata": {
        "id": "R-Y3BJnKSKQA"
      },
      "outputs": [],
      "source": [
        "def getNeighbors(basegame, K, temp_gamedf, selected_features):\n",
        "    print('getNeighbors Checkpoint 1')\n",
        "    basegame_features = basegame[selected_features].values.reshape(1, -1)\n",
        "    all_game_features = temp_gamedf[selected_features].values\n",
        "\n",
        "    nan_mask = np.isnan(all_game_features.astype(float)).any(axis=1)\n",
        "    all_game_features = all_game_features[~nan_mask]\n",
        "    all_game_ranks = temp_gamedf.loc[~nan_mask, 'Rank']\n",
        "\n",
        "    print('getNeighbors Checkpoint 2')\n",
        "    similarities = np.abs(Similarity(basegame_features, temp_gamedf, selected_features))\n",
        "\n",
        "    print('getNeighbors Checkpoint 3')\n",
        "    neighbor_indices = np.argsort(similarities)[:K]\n",
        "\n",
        "    print('getNeighbors Checkpoint 4')\n",
        "    neighbors = [(all_game_ranks.iloc[i], similarities[i]) for i in neighbor_indices]\n",
        "\n",
        "    return neighbors"
      ]
    },
    {
      "cell_type": "code",
      "execution_count": 324,
      "id": "KgQU23f0SKQA",
      "metadata": {
        "colab": {
          "base_uri": "https://localhost:8080/",
          "height": 549
        },
        "id": "KgQU23f0SKQA",
        "outputId": "9ac474a3-6320-47e6-8818-b5d4675bdb34"
      },
      "outputs": [],
      "source": [
        "# Function to predict scores\n",
        "def predict_score(temp_gamedf, selected_features):\n",
        "    name = 'Call of Duty'\n",
        "    matching_games = temp_gamedf[temp_gamedf['Name'].str.contains(name)]\n",
        "\n",
        "    if matching_games.empty:\n",
        "        print(f\"No games found with a name containing '{name}'.\")\n",
        "        return\n",
        "\n",
        "    new_game = matching_games.iloc[0].to_frame().T\n",
        "    print('Selected Game:', new_game['Name'].values[0])\n",
        "\n",
        "    K = 20\n",
        "    neighbors = getNeighbors(new_game, K, temp_gamedf, selected_features)\n",
        "    print('\\nRecommended Games:\\n')\n",
        "    print(neighbors)\n",
        "    for neighbor_info in neighbors:\n",
        "        neighbor_rank= neighbor_info\n",
        "        neighbor_game = gamedf[gamedf['Rank'] == neighbor_rank[0]]\n",
        "        if not neighbor_game.empty:\n",
        "            if neighbor_game.iloc[0]['Name'] != new_game.iloc[0]['Name']:\n",
        "                print(neighbor_game.iloc[0]['Name'])\n"
      ]
    },
    {
      "cell_type": "code",
      "execution_count": 325,
      "metadata": {},
      "outputs": [
        {
          "name": "stdout",
          "output_type": "stream",
          "text": [
            "Selected Game: Call of Duty: Modern Warfare 3\n",
            "getNeighbors Checkpoint 1\n",
            "getNeighbors Checkpoint 2\n",
            "Similarity Checkpoint 1\n",
            "X_train\n",
            "        Year     Genre  Publisher  JP_Sales  Global_Sales\n",
            "0      0.650  0.909091   0.621107  0.368885      1.000000\n",
            "1      0.125  0.363636   0.621107  0.666341      0.486281\n",
            "2      0.700  0.545455   0.621107  0.370841      0.432854\n",
            "3      0.725  0.909091   0.621107  0.320939      0.398767\n",
            "4      0.400  0.636364   0.621107  1.000000      0.379064\n",
            "...      ...       ...        ...       ...           ...\n",
            "16593  0.550  0.363636   0.465398  0.000000      0.000000\n",
            "16594  0.575  0.727273   0.416955  0.000000      0.000000\n",
            "16595  0.700  0.545455   0.036332  0.000000      0.000000\n",
            "16596  0.750  0.454545   0.013841  0.000000      0.000000\n",
            "16597  0.575  0.363636   0.944637  0.000000      0.000000\n",
            "\n",
            "[16327 rows x 5 columns]\n",
            "Similarity Checkpoint 2\n",
            "Similarity Checkpoint 3\n",
            "n1\n",
            "[[0.7750000000000057 0.7272727272727273 0.03633217993079585\n",
            "  0.012720156555772993 0.17829082557717882]]\n",
            "Similarity Checkpoint 5\n",
            "Similarity Checkpoint 6\n",
            "Similarity Checkpoint 7\n",
            "Random Forest R-squared: 0.9998246914407347\n",
            "KNN R-squared: 0.7184707449516567\n",
            "Linear Regression R-squared: 0.20534049446825098\n",
            "getNeighbors Checkpoint 3\n",
            "getNeighbors Checkpoint 4\n",
            "\n",
            "Recommended Games:\n",
            "\n",
            "[(29, 0.0), (30, 0.379999999999999), (31, 0.8399999999999999), (28, 1.75), (32, 2.3200000000000003), (33, 2.8200000000000003), (27, 3.0700000000000003), (26, 3.289999999999999), (34, 4.140000000000001), (25, 4.949999999999999), (35, 5.420000000000002), (24, 5.960000000000001), (36, 6.43), (23, 6.57), (37, 6.600000000000001), (22, 8.080000000000002), (38, 8.490000000000002), (21, 8.96), (39, 8.990000000000002), (20, 9.09)]\n",
            "Pokemon Yellow: Special Pikachu Edition\n",
            "Call of Duty: Black Ops\n",
            "Gran Turismo 3: A-Spec\n",
            "Pokemon X/Pokemon Y\n",
            "Call of Duty: Black Ops 3\n",
            "Brain Age 2: More Training in Minutes a Day\n",
            "Pokemon Black/Pokemon White\n",
            "Call of Duty: Black Ops II\n",
            "Pokemon Ruby/Pokemon Sapphire\n",
            "Call of Duty: Black Ops II\n",
            "Grand Theft Auto: Vice City\n",
            "Call of Duty: Modern Warfare 2\n",
            "Grand Theft Auto V\n",
            "Super Mario Bros. 3\n",
            "Grand Theft Auto III\n",
            "Super Mario Land\n",
            "Super Smash Bros. Brawl\n",
            "Pokemon Diamond/Pokemon Pearl\n"
          ]
        }
      ],
      "source": [
        "predict_score(temp_gamedf, selected_feature_names)"
      ]
    }
  ],
  "metadata": {
    "colab": {
      "provenance": []
    },
    "kernelspec": {
      "display_name": "Python 3 (ipykernel)",
      "language": "python",
      "name": "python3"
    },
    "language_info": {
      "codemirror_mode": {
        "name": "ipython",
        "version": 3
      },
      "file_extension": ".py",
      "mimetype": "text/x-python",
      "name": "python",
      "nbconvert_exporter": "python",
      "pygments_lexer": "ipython3",
      "version": "3.11.5"
    }
  },
  "nbformat": 4,
  "nbformat_minor": 5
}
