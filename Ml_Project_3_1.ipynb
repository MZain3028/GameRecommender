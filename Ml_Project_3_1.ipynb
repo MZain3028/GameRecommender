{
  "cells": [
    {
      "cell_type": "code",
      "execution_count": 19,
      "id": "c79d406d",
      "metadata": {
        "colab": {
          "base_uri": "https://localhost:8080/"
        },
        "id": "c79d406d",
        "outputId": "157004f9-2cdc-4bdf-a3a1-16d980393909"
      },
      "outputs": [
        {
          "name": "stdout",
          "output_type": "stream",
          "text": [
            "   Rank                      Name Platform    Year         Genre Publisher  \\\n",
            "0     0                Wii Sports      Wii  2006.0        Sports  Nintendo   \n",
            "1     1         Super Mario Bros.      NES  1985.0      Platform  Nintendo   \n",
            "2     2            Mario Kart Wii      Wii  2008.0        Racing  Nintendo   \n",
            "3     3         Wii Sports Resort      Wii  2009.0        Sports  Nintendo   \n",
            "4     4  Pokemon Red/Pokemon Blue       GB  1996.0  Role-Playing  Nintendo   \n",
            "\n",
            "   NA_Sales  EU_Sales  JP_Sales  Other_Sales  Global_Sales  \n",
            "0     41.49     29.02      3.77         8.46         82.74  \n",
            "1     29.08      3.58      6.81         0.77         40.24  \n",
            "2     15.85     12.88      3.79         3.31         35.82  \n",
            "3     15.75     11.01      3.28         2.96         33.00  \n",
            "4     11.27      8.89     10.22         1.00         31.37  \n",
            "   Rank   Name  Platform    Year  Genre  Publisher  NA_Sales  EU_Sales  \\\n",
            "0     0  11007        26  2006.0     10        359     41.49     29.02   \n",
            "1     1   9327        11  1985.0      4        359     29.08      3.58   \n",
            "2     2   5573        26  2008.0      6        359     15.85     12.88   \n",
            "3     3  11009        26  2009.0     10        359     15.75     11.01   \n",
            "4     4   7346         5  1996.0      7        359     11.27      8.89   \n",
            "\n",
            "   JP_Sales  Other_Sales  Global_Sales  \n",
            "0      3.77         8.46         82.74  \n",
            "1      6.81         0.77         40.24  \n",
            "2      3.79         3.31         35.82  \n",
            "3      3.28         2.96         33.00  \n",
            "4     10.22         1.00         31.37  \n"
          ]
        }
      ],
      "source": [
        "import pandas as pd\n",
        "from matplotlib import pyplot as plt\n",
        "\n",
        "# Importing and cleaning dataset\n",
        "gamedf = pd.read_csv(r\"C:\\Users\\Zain\\Downloads\\GameRecommender-main\\GameRecommender-main\\vgsales.csv\")\n",
        "temp_gamedf = pd.read_csv(r\"C:\\Users\\Zain\\Downloads\\GameRecommender-main\\GameRecommender-main\\vgsales.csv\")\n",
        "\n",
        "# Identify the string columns in your dataframe\n",
        "string_columns = gamedf.select_dtypes(include=['object']).columns\n",
        "\n",
        "from sklearn.preprocessing import LabelEncoder\n",
        "\n",
        "# Initialize the LabelEncoder object\n",
        "label_encoder = LabelEncoder()\n",
        "print(gamedf.head())\n",
        "# Perform label encoding on string_columns\n",
        "for column in string_columns:\n",
        "    temp_gamedf[column] = label_encoder.fit_transform(temp_gamedf[column])\n",
        "\n",
        "# Print the modified dataframe\n",
        "print(temp_gamedf.head())\n",
        "\n",
        "\n"
      ]
    },
    {
      "cell_type": "code",
      "execution_count": 20,
      "id": "FcpEhCIUSKP_",
      "metadata": {
        "colab": {
          "base_uri": "https://localhost:8080/"
        },
        "id": "FcpEhCIUSKP_",
        "outputId": "98d35b7e-622d-4ba3-900c-036cbc9120ee"
      },
      "outputs": [
        {
          "name": "stdout",
          "output_type": "stream",
          "text": [
            "   Rank      Name  Platform   Year     Genre  Publisher  NA_Sales  EU_Sales  \\\n",
            "0     0  0.957797  0.866667  0.650  0.909091   0.621107  1.000000  1.000000   \n",
            "1     1  0.811608  0.366667  0.125  0.363636   0.621107  0.700892  0.123363   \n",
            "2     2  0.484946  0.866667  0.700  0.545455   0.621107  0.382020  0.443832   \n",
            "3     3  0.957971  0.866667  0.725  0.909091   0.621107  0.379610  0.379394   \n",
            "4     4  0.639227  0.166667  0.400  0.636364   0.621107  0.271632  0.306340   \n",
            "\n",
            "   JP_Sales  Other_Sales  Global_Sales  \n",
            "0  0.368885     0.800378      1.000000  \n",
            "1  0.666341     0.072848      0.486281  \n",
            "2  0.370841     0.313150      0.432854  \n",
            "3  0.320939     0.280038      0.398767  \n",
            "4  1.000000     0.094607      0.379064  \n"
          ]
        }
      ],
      "source": [
        "from sklearn.preprocessing import MinMaxScaler\n",
        "\n",
        "# Identify the numerical columns in your dataframe\n",
        "numerical_columns = temp_gamedf.select_dtypes(include=['float64', 'int64', 'int32']).columns\n",
        "numerical_columns=numerical_columns.drop('Rank')\n",
        "# Initialize the MinMaxScaler object\n",
        "scaler = MinMaxScaler()\n",
        "\n",
        "# Perform normalization on numerical_columns\n",
        "temp_gamedf[numerical_columns] = scaler.fit_transform(temp_gamedf[numerical_columns])\n",
        "\n",
        "# Print the modified dataframe with label encoding and normalization\n",
        "print(temp_gamedf.head())"
      ]
    },
    {
      "cell_type": "code",
      "execution_count": 21,
      "id": "710090fc",
      "metadata": {
        "colab": {
          "base_uri": "https://localhost:8080/"
        },
        "id": "710090fc",
        "outputId": "8d13c046-10c6-4825-ee30-5c02f2188082"
      },
      "outputs": [
        {
          "name": "stdout",
          "output_type": "stream",
          "text": [
            "               Rank      Platform          Year         Genre     Publisher  \\\n",
            "count  16327.000000  16327.000000  16327.000000  16327.000000  16327.000000   \n",
            "mean    8291.868194      0.526488      0.660161      0.447814      0.506908   \n",
            "std     4792.669778      0.279071      0.145725      0.341893      0.306924   \n",
            "min        0.000000      0.000000      0.000000      0.000000      0.000000   \n",
            "25%     4135.500000      0.233333      0.575000      0.090909      0.237024   \n",
            "50%     8294.000000      0.533333      0.675000      0.454545      0.558824   \n",
            "75%    12440.500000      0.700000      0.750000      0.727273      0.788927   \n",
            "max    16599.000000      1.000000      1.000000      1.000000      1.000000   \n",
            "\n",
            "           NA_Sales      EU_Sales      JP_Sales   Other_Sales  Global_Sales  \n",
            "count  16327.000000  16327.000000  16327.000000  16327.000000  16327.000000  \n",
            "mean       0.006397      0.005085      0.007697      0.004572      0.006409  \n",
            "std        0.019802      0.017532      0.030485      0.017965      0.018926  \n",
            "min        0.000000      0.000000      0.000000      0.000000      0.000000  \n",
            "25%        0.000000      0.000000      0.000000      0.000000      0.000604  \n",
            "50%        0.001928      0.000689      0.000000      0.000946      0.001934  \n",
            "75%        0.005785      0.003790      0.003914      0.003784      0.005681  \n",
            "max        1.000000      1.000000      1.000000      1.000000      1.000000  \n",
            "Index(['Year', 'Genre', 'Publisher', 'JP_Sales', 'Global_Sales'], dtype='object')\n"
          ]
        }
      ],
      "source": [
        "from sklearn.feature_selection import SelectKBest, f_classif\n",
        "import pandas as pd\n",
        "import numpy as np\n",
        "\n",
        "# Assuming X contains your features and y contains the target variable (Game Title)\n",
        "X = temp_gamedf.drop('Name', axis=1).dropna()\n",
        "y = temp_gamedf['Name'].dropna()\n",
        "print(X.describe())\n",
        "# Find the common indices between X and y\n",
        "common_indices = X.index.intersection(y.index)\n",
        "\n",
        "# Filter X and y using the common indices\n",
        "X = X.loc[common_indices]\n",
        "y = y.loc[common_indices]\n",
        "\n",
        "# Drop rows containing NaN values\n",
        "X = X.dropna()\n",
        "\n",
        "# Initialize the SelectKBest feature selector with f_classif test\n",
        "selector = SelectKBest(score_func=f_classif, k=5)\n",
        "\n",
        "# Apply feature selection on the dataset\n",
        "X_selected = selector.fit_transform(X, y)\n",
        "\n",
        "# Get the selected feature indices\n",
        "selected_feature_indices = selector.get_support(indices=True)\n",
        "\n",
        "# Get the selected feature names\n",
        "selected_feature_names = X.columns[selected_feature_indices]\n",
        "print(selected_feature_names)\n"
      ]
    },
    {
      "cell_type": "code",
      "execution_count": 22,
      "id": "UT3hcHl8SKQA",
      "metadata": {
        "id": "UT3hcHl8SKQA"
      },
      "outputs": [],
      "source": [
        "from sklearn.ensemble import RandomForestRegressor\n",
        "from sklearn.neighbors import KNeighborsRegressor\n",
        "from sklearn.linear_model import LinearRegression\n",
        "import numpy as np\n",
        "\n",
        "def Similarity(n1, n2, temp_gamedf):\n",
        "    # Select features for training the models\n",
        "    features = ['Genre', 'Year', 'Publisher']  # Add other relevant features\n",
        "    print('Checkpoint 1')\n",
        "    # Prepare the training data\n",
        "    X_train = temp_gamedf[features].dropna()\n",
        "    y_train = temp_gamedf.loc[X_train.index, 'Rank']  # Assuming 'Rank' is your target variable\n",
        "    print('Checkpoint 2')\n",
        "    # Initialize the models\n",
        "    rf_model = RandomForestRegressor(n_estimators=100, random_state=42)\n",
        "    knn_model = KNeighborsRegressor(n_neighbors=5)\n",
        "    lr_model = LinearRegression()\n",
        "    print('Checkpoint 3')\n",
        "    # Train the models\n",
        "    rf_model.fit(X_train, y_train)\n",
        "    knn_model.fit(X_train, y_train)\n",
        "    lr_model.fit(X_train, y_train)\n",
        "    print('Checkpoint 4')\n",
        "    # Prepare the input data for prediction\n",
        "    input_data = temp_gamedf.loc[[n1, n2], features].dropna()\n",
        "\n",
        "    print('Checkpoint 5')\n",
        "    # Handle missing values in the input data\n",
        "    if input_data.isnull().values.any():\n",
        "        print('checkpoint 5.5')\n",
        "        return np.inf  # Return a high similarity for cases with missing values\n",
        "    print('Checkpoint 6')\n",
        "    # Predict the target variable (Rank) using each model\n",
        "    rf_similarity = np.abs(rf_model.predict(input_data.iloc[0].values.reshape(1, -1)) - rf_model.predict(X_train))\n",
        "    knn_similarity = np.abs(knn_model.predict(input_data.iloc[0].values.reshape(1, -1)) - knn_model.predict(X_train))\n",
        "    lr_similarity = np.abs(lr_model.predict(input_data.iloc[0].values.reshape(1, -1)) - lr_model.predict(X_train))\n",
        "    print('Checkpoint 7')\n",
        "    # Select the highest similarity score among the models\n",
        "    max_similarity = np.max(np.stack([rf_similarity, knn_similarity, lr_similarity]), axis=0)\n",
        "\n",
        "    return max_similarity\n"
      ]
    },
    {
      "cell_type": "code",
      "execution_count": 23,
      "id": "R-Y3BJnKSKQA",
      "metadata": {
        "id": "R-Y3BJnKSKQA"
      },
      "outputs": [],
      "source": [
        "import numpy as np\n",
        "\n",
        "def getNeighbors(basegame, K, temp_gamedf):\n",
        "    # Extract features for the base game\n",
        "    basegame_features = basegame[['Genre', 'Year', 'Publisher']].values.reshape(1, -1)\n",
        "    print('Neighbors checkpoint 1')\n",
        "    # Extract features for all games\n",
        "    all_game_features = temp_gamedf[['Genre', 'Year', 'Publisher']].values\n",
        "    print('Neighbors checkpoint 2')\n",
        "    # Handle missing or non-numeric values in features\n",
        "    nan_mask = np.isnan(all_game_features.astype(float)).any(axis=1)\n",
        "    all_game_features = all_game_features[~nan_mask]\n",
        "    all_game_ranks = temp_gamedf.loc[~nan_mask, 'Rank']\n",
        "    print('Neighbors checkpoint 3')\n",
        "    # Calculate similarities using vectorized operations\n",
        "    similarities = np.abs(Similarity(basegame_features, all_game_features, temp_gamedf))\n",
        "    print('Neighbors checkpoint 4')\n",
        "    # Sort and get the indices of the K nearest neighbors\n",
        "    neighbor_indices = np.argsort(similarities)[:K]\n",
        "    print('Neighbors checkpoint 5')\n",
        "    # Extract the neighbor information\n",
        "    neighbors = [(all_game_ranks.iloc[i], similarities[i]) for i in neighbor_indices]\n",
        "\n",
        "    return neighbors\n"
      ]
    },
    {
      "cell_type": "code",
      "execution_count": 24,
      "id": "KgQU23f0SKQA",
      "metadata": {
        "colab": {
          "base_uri": "https://localhost:8080/",
          "height": 549
        },
        "id": "KgQU23f0SKQA",
        "outputId": "9ac474a3-6320-47e6-8818-b5d4675bdb34"
      },
      "outputs": [
        {
          "name": "stdout",
          "output_type": "stream",
          "text": [
            "Selected Game: Call of Duty: Modern Warfare 3\n",
            "Neighbors checkpoint 1\n",
            "Neighbors checkpoint 2\n",
            "Neighbors checkpoint 3\n",
            "Checkpoint 1\n",
            "Checkpoint 2\n",
            "Checkpoint 3\n",
            "Checkpoint 4\n"
          ]
        },
        {
          "ename": "TypeError",
          "evalue": "unhashable type: 'numpy.ndarray'",
          "output_type": "error",
          "traceback": [
            "\u001b[1;31m---------------------------------------------------------------------------\u001b[0m",
            "\u001b[1;31mTypeError\u001b[0m                                 Traceback (most recent call last)",
            "\u001b[1;32mc:\\Users\\Zain\\Downloads\\GameRecommender-main\\GameRecommender-main\\Ml_Project_3_1.ipynb Cell 6\u001b[0m line \u001b[0;36m2\n\u001b[0;32m     <a href='vscode-notebook-cell:/c%3A/Users/Zain/Downloads/GameRecommender-main/GameRecommender-main/Ml_Project_3_1.ipynb#W5sZmlsZQ%3D%3D?line=19'>20</a>\u001b[0m             \u001b[39mprint\u001b[39m(neighbor_game\u001b[39m.\u001b[39miloc[\u001b[39m0\u001b[39m][\u001b[39m'\u001b[39m\u001b[39mName\u001b[39m\u001b[39m'\u001b[39m])\n\u001b[0;32m     <a href='vscode-notebook-cell:/c%3A/Users/Zain/Downloads/GameRecommender-main/GameRecommender-main/Ml_Project_3_1.ipynb#W5sZmlsZQ%3D%3D?line=21'>22</a>\u001b[0m \u001b[39m# Call the predict_score function with the temp_gamedf DataFrame\u001b[39;00m\n\u001b[1;32m---> <a href='vscode-notebook-cell:/c%3A/Users/Zain/Downloads/GameRecommender-main/GameRecommender-main/Ml_Project_3_1.ipynb#W5sZmlsZQ%3D%3D?line=22'>23</a>\u001b[0m predict_score(temp_gamedf)\n",
            "\u001b[1;32mc:\\Users\\Zain\\Downloads\\GameRecommender-main\\GameRecommender-main\\Ml_Project_3_1.ipynb Cell 6\u001b[0m line \u001b[0;36m1\n\u001b[0;32m     <a href='vscode-notebook-cell:/c%3A/Users/Zain/Downloads/GameRecommender-main/GameRecommender-main/Ml_Project_3_1.ipynb#W5sZmlsZQ%3D%3D?line=9'>10</a>\u001b[0m \u001b[39mprint\u001b[39m(\u001b[39m'\u001b[39m\u001b[39mSelected Game:\u001b[39m\u001b[39m'\u001b[39m, new_game[\u001b[39m'\u001b[39m\u001b[39mName\u001b[39m\u001b[39m'\u001b[39m]\u001b[39m.\u001b[39mvalues[\u001b[39m0\u001b[39m])\n\u001b[0;32m     <a href='vscode-notebook-cell:/c%3A/Users/Zain/Downloads/GameRecommender-main/GameRecommender-main/Ml_Project_3_1.ipynb#W5sZmlsZQ%3D%3D?line=11'>12</a>\u001b[0m K \u001b[39m=\u001b[39m \u001b[39m5\u001b[39m\n\u001b[1;32m---> <a href='vscode-notebook-cell:/c%3A/Users/Zain/Downloads/GameRecommender-main/GameRecommender-main/Ml_Project_3_1.ipynb#W5sZmlsZQ%3D%3D?line=12'>13</a>\u001b[0m neighbors \u001b[39m=\u001b[39m getNeighbors(new_game, K, temp_gamedf)\n\u001b[0;32m     <a href='vscode-notebook-cell:/c%3A/Users/Zain/Downloads/GameRecommender-main/GameRecommender-main/Ml_Project_3_1.ipynb#W5sZmlsZQ%3D%3D?line=13'>14</a>\u001b[0m \u001b[39mprint\u001b[39m(\u001b[39m'\u001b[39m\u001b[39m\\n\u001b[39;00m\u001b[39mRecommended Games:\u001b[39m\u001b[39m\\n\u001b[39;00m\u001b[39m'\u001b[39m)\n\u001b[0;32m     <a href='vscode-notebook-cell:/c%3A/Users/Zain/Downloads/GameRecommender-main/GameRecommender-main/Ml_Project_3_1.ipynb#W5sZmlsZQ%3D%3D?line=15'>16</a>\u001b[0m \u001b[39mfor\u001b[39;00m neighbor_info \u001b[39min\u001b[39;00m neighbors:\n",
            "\u001b[1;32mc:\\Users\\Zain\\Downloads\\GameRecommender-main\\GameRecommender-main\\Ml_Project_3_1.ipynb Cell 6\u001b[0m line \u001b[0;36m1\n\u001b[0;32m     <a href='vscode-notebook-cell:/c%3A/Users/Zain/Downloads/GameRecommender-main/GameRecommender-main/Ml_Project_3_1.ipynb#W5sZmlsZQ%3D%3D?line=13'>14</a>\u001b[0m \u001b[39mprint\u001b[39m(\u001b[39m'\u001b[39m\u001b[39mNeighbors checkpoint 3\u001b[39m\u001b[39m'\u001b[39m)\n\u001b[0;32m     <a href='vscode-notebook-cell:/c%3A/Users/Zain/Downloads/GameRecommender-main/GameRecommender-main/Ml_Project_3_1.ipynb#W5sZmlsZQ%3D%3D?line=14'>15</a>\u001b[0m \u001b[39m# Calculate similarities using vectorized operations\u001b[39;00m\n\u001b[1;32m---> <a href='vscode-notebook-cell:/c%3A/Users/Zain/Downloads/GameRecommender-main/GameRecommender-main/Ml_Project_3_1.ipynb#W5sZmlsZQ%3D%3D?line=15'>16</a>\u001b[0m similarities \u001b[39m=\u001b[39m np\u001b[39m.\u001b[39mabs(Similarity(basegame_features, all_game_features, temp_gamedf))\n\u001b[0;32m     <a href='vscode-notebook-cell:/c%3A/Users/Zain/Downloads/GameRecommender-main/GameRecommender-main/Ml_Project_3_1.ipynb#W5sZmlsZQ%3D%3D?line=16'>17</a>\u001b[0m \u001b[39mprint\u001b[39m(\u001b[39m'\u001b[39m\u001b[39mNeighbors checkpoint 4\u001b[39m\u001b[39m'\u001b[39m)\n\u001b[0;32m     <a href='vscode-notebook-cell:/c%3A/Users/Zain/Downloads/GameRecommender-main/GameRecommender-main/Ml_Project_3_1.ipynb#W5sZmlsZQ%3D%3D?line=17'>18</a>\u001b[0m \u001b[39m# Sort and get the indices of the K nearest neighbors\u001b[39;00m\n",
            "\u001b[1;32mc:\\Users\\Zain\\Downloads\\GameRecommender-main\\GameRecommender-main\\Ml_Project_3_1.ipynb Cell 6\u001b[0m line \u001b[0;36m2\n\u001b[0;32m     <a href='vscode-notebook-cell:/c%3A/Users/Zain/Downloads/GameRecommender-main/GameRecommender-main/Ml_Project_3_1.ipynb#W5sZmlsZQ%3D%3D?line=22'>23</a>\u001b[0m \u001b[39mprint\u001b[39m(\u001b[39m'\u001b[39m\u001b[39mCheckpoint 4\u001b[39m\u001b[39m'\u001b[39m)\n\u001b[0;32m     <a href='vscode-notebook-cell:/c%3A/Users/Zain/Downloads/GameRecommender-main/GameRecommender-main/Ml_Project_3_1.ipynb#W5sZmlsZQ%3D%3D?line=23'>24</a>\u001b[0m \u001b[39m# Prepare the input data for prediction\u001b[39;00m\n\u001b[1;32m---> <a href='vscode-notebook-cell:/c%3A/Users/Zain/Downloads/GameRecommender-main/GameRecommender-main/Ml_Project_3_1.ipynb#W5sZmlsZQ%3D%3D?line=24'>25</a>\u001b[0m input_data \u001b[39m=\u001b[39m temp_gamedf\u001b[39m.\u001b[39mloc[[n1, n2], features]\u001b[39m.\u001b[39mdropna()\n\u001b[0;32m     <a href='vscode-notebook-cell:/c%3A/Users/Zain/Downloads/GameRecommender-main/GameRecommender-main/Ml_Project_3_1.ipynb#W5sZmlsZQ%3D%3D?line=26'>27</a>\u001b[0m \u001b[39mprint\u001b[39m(\u001b[39m'\u001b[39m\u001b[39mCheckpoint 5\u001b[39m\u001b[39m'\u001b[39m)\n\u001b[0;32m     <a href='vscode-notebook-cell:/c%3A/Users/Zain/Downloads/GameRecommender-main/GameRecommender-main/Ml_Project_3_1.ipynb#W5sZmlsZQ%3D%3D?line=27'>28</a>\u001b[0m \u001b[39m# Handle missing values in the input data\u001b[39;00m\n",
            "File \u001b[1;32mc:\\Users\\Zain\\anaconda3\\Lib\\site-packages\\pandas\\core\\indexing.py:1097\u001b[0m, in \u001b[0;36m_LocationIndexer.__getitem__\u001b[1;34m(self, key)\u001b[0m\n\u001b[0;32m   1095\u001b[0m     \u001b[39mif\u001b[39;00m \u001b[39mself\u001b[39m\u001b[39m.\u001b[39m_is_scalar_access(key):\n\u001b[0;32m   1096\u001b[0m         \u001b[39mreturn\u001b[39;00m \u001b[39mself\u001b[39m\u001b[39m.\u001b[39mobj\u001b[39m.\u001b[39m_get_value(\u001b[39m*\u001b[39mkey, takeable\u001b[39m=\u001b[39m\u001b[39mself\u001b[39m\u001b[39m.\u001b[39m_takeable)\n\u001b[1;32m-> 1097\u001b[0m     \u001b[39mreturn\u001b[39;00m \u001b[39mself\u001b[39m\u001b[39m.\u001b[39m_getitem_tuple(key)\n\u001b[0;32m   1098\u001b[0m \u001b[39melse\u001b[39;00m:\n\u001b[0;32m   1099\u001b[0m     \u001b[39m# we by definition only have the 0th axis\u001b[39;00m\n\u001b[0;32m   1100\u001b[0m     axis \u001b[39m=\u001b[39m \u001b[39mself\u001b[39m\u001b[39m.\u001b[39maxis \u001b[39mor\u001b[39;00m \u001b[39m0\u001b[39m\n",
            "File \u001b[1;32mc:\\Users\\Zain\\anaconda3\\Lib\\site-packages\\pandas\\core\\indexing.py:1287\u001b[0m, in \u001b[0;36m_LocIndexer._getitem_tuple\u001b[1;34m(self, tup)\u001b[0m\n\u001b[0;32m   1285\u001b[0m \u001b[39m# ugly hack for GH #836\u001b[39;00m\n\u001b[0;32m   1286\u001b[0m \u001b[39mif\u001b[39;00m \u001b[39mself\u001b[39m\u001b[39m.\u001b[39m_multi_take_opportunity(tup):\n\u001b[1;32m-> 1287\u001b[0m     \u001b[39mreturn\u001b[39;00m \u001b[39mself\u001b[39m\u001b[39m.\u001b[39m_multi_take(tup)\n\u001b[0;32m   1289\u001b[0m \u001b[39mreturn\u001b[39;00m \u001b[39mself\u001b[39m\u001b[39m.\u001b[39m_getitem_tuple_same_dim(tup)\n",
            "File \u001b[1;32mc:\\Users\\Zain\\anaconda3\\Lib\\site-packages\\pandas\\core\\indexing.py:1238\u001b[0m, in \u001b[0;36m_LocIndexer._multi_take\u001b[1;34m(self, tup)\u001b[0m\n\u001b[0;32m   1222\u001b[0m \u001b[39m\u001b[39m\u001b[39m\"\"\"\u001b[39;00m\n\u001b[0;32m   1223\u001b[0m \u001b[39mCreate the indexers for the passed tuple of keys, and\u001b[39;00m\n\u001b[0;32m   1224\u001b[0m \u001b[39mexecutes the take operation. This allows the take operation to be\u001b[39;00m\n\u001b[1;32m   (...)\u001b[0m\n\u001b[0;32m   1235\u001b[0m \u001b[39mvalues: same type as the object being indexed\u001b[39;00m\n\u001b[0;32m   1236\u001b[0m \u001b[39m\"\"\"\u001b[39;00m\n\u001b[0;32m   1237\u001b[0m \u001b[39m# GH 836\u001b[39;00m\n\u001b[1;32m-> 1238\u001b[0m d \u001b[39m=\u001b[39m {\n\u001b[0;32m   1239\u001b[0m     axis: \u001b[39mself\u001b[39m\u001b[39m.\u001b[39m_get_listlike_indexer(key, axis)\n\u001b[0;32m   1240\u001b[0m     \u001b[39mfor\u001b[39;00m (key, axis) \u001b[39min\u001b[39;00m \u001b[39mzip\u001b[39m(tup, \u001b[39mself\u001b[39m\u001b[39m.\u001b[39mobj\u001b[39m.\u001b[39m_AXIS_ORDERS)\n\u001b[0;32m   1241\u001b[0m }\n\u001b[0;32m   1242\u001b[0m \u001b[39mreturn\u001b[39;00m \u001b[39mself\u001b[39m\u001b[39m.\u001b[39mobj\u001b[39m.\u001b[39m_reindex_with_indexers(d, copy\u001b[39m=\u001b[39m\u001b[39mTrue\u001b[39;00m, allow_dups\u001b[39m=\u001b[39m\u001b[39mTrue\u001b[39;00m)\n",
            "File \u001b[1;32mc:\\Users\\Zain\\anaconda3\\Lib\\site-packages\\pandas\\core\\indexing.py:1239\u001b[0m, in \u001b[0;36m<dictcomp>\u001b[1;34m(.0)\u001b[0m\n\u001b[0;32m   1222\u001b[0m \u001b[39m\u001b[39m\u001b[39m\"\"\"\u001b[39;00m\n\u001b[0;32m   1223\u001b[0m \u001b[39mCreate the indexers for the passed tuple of keys, and\u001b[39;00m\n\u001b[0;32m   1224\u001b[0m \u001b[39mexecutes the take operation. This allows the take operation to be\u001b[39;00m\n\u001b[1;32m   (...)\u001b[0m\n\u001b[0;32m   1235\u001b[0m \u001b[39mvalues: same type as the object being indexed\u001b[39;00m\n\u001b[0;32m   1236\u001b[0m \u001b[39m\"\"\"\u001b[39;00m\n\u001b[0;32m   1237\u001b[0m \u001b[39m# GH 836\u001b[39;00m\n\u001b[0;32m   1238\u001b[0m d \u001b[39m=\u001b[39m {\n\u001b[1;32m-> 1239\u001b[0m     axis: \u001b[39mself\u001b[39m\u001b[39m.\u001b[39m_get_listlike_indexer(key, axis)\n\u001b[0;32m   1240\u001b[0m     \u001b[39mfor\u001b[39;00m (key, axis) \u001b[39min\u001b[39;00m \u001b[39mzip\u001b[39m(tup, \u001b[39mself\u001b[39m\u001b[39m.\u001b[39mobj\u001b[39m.\u001b[39m_AXIS_ORDERS)\n\u001b[0;32m   1241\u001b[0m }\n\u001b[0;32m   1242\u001b[0m \u001b[39mreturn\u001b[39;00m \u001b[39mself\u001b[39m\u001b[39m.\u001b[39mobj\u001b[39m.\u001b[39m_reindex_with_indexers(d, copy\u001b[39m=\u001b[39m\u001b[39mTrue\u001b[39;00m, allow_dups\u001b[39m=\u001b[39m\u001b[39mTrue\u001b[39;00m)\n",
            "File \u001b[1;32mc:\\Users\\Zain\\anaconda3\\Lib\\site-packages\\pandas\\core\\indexing.py:1462\u001b[0m, in \u001b[0;36m_LocIndexer._get_listlike_indexer\u001b[1;34m(self, key, axis)\u001b[0m\n\u001b[0;32m   1459\u001b[0m ax \u001b[39m=\u001b[39m \u001b[39mself\u001b[39m\u001b[39m.\u001b[39mobj\u001b[39m.\u001b[39m_get_axis(axis)\n\u001b[0;32m   1460\u001b[0m axis_name \u001b[39m=\u001b[39m \u001b[39mself\u001b[39m\u001b[39m.\u001b[39mobj\u001b[39m.\u001b[39m_get_axis_name(axis)\n\u001b[1;32m-> 1462\u001b[0m keyarr, indexer \u001b[39m=\u001b[39m ax\u001b[39m.\u001b[39m_get_indexer_strict(key, axis_name)\n\u001b[0;32m   1464\u001b[0m \u001b[39mreturn\u001b[39;00m keyarr, indexer\n",
            "File \u001b[1;32mc:\\Users\\Zain\\anaconda3\\Lib\\site-packages\\pandas\\core\\indexes\\base.py:5872\u001b[0m, in \u001b[0;36mIndex._get_indexer_strict\u001b[1;34m(self, key, axis_name)\u001b[0m\n\u001b[0;32m   5869\u001b[0m     keyarr \u001b[39m=\u001b[39m com\u001b[39m.\u001b[39masarray_tuplesafe(keyarr)\n\u001b[0;32m   5871\u001b[0m \u001b[39mif\u001b[39;00m \u001b[39mself\u001b[39m\u001b[39m.\u001b[39m_index_as_unique:\n\u001b[1;32m-> 5872\u001b[0m     indexer \u001b[39m=\u001b[39m \u001b[39mself\u001b[39m\u001b[39m.\u001b[39mget_indexer_for(keyarr)\n\u001b[0;32m   5873\u001b[0m     keyarr \u001b[39m=\u001b[39m \u001b[39mself\u001b[39m\u001b[39m.\u001b[39mreindex(keyarr)[\u001b[39m0\u001b[39m]\n\u001b[0;32m   5874\u001b[0m \u001b[39melse\u001b[39;00m:\n",
            "File \u001b[1;32mc:\\Users\\Zain\\anaconda3\\Lib\\site-packages\\pandas\\core\\indexes\\base.py:5859\u001b[0m, in \u001b[0;36mIndex.get_indexer_for\u001b[1;34m(self, target)\u001b[0m\n\u001b[0;32m   5841\u001b[0m \u001b[39m\u001b[39m\u001b[39m\"\"\"\u001b[39;00m\n\u001b[0;32m   5842\u001b[0m \u001b[39mGuaranteed return of an indexer even when non-unique.\u001b[39;00m\n\u001b[0;32m   5843\u001b[0m \n\u001b[1;32m   (...)\u001b[0m\n\u001b[0;32m   5856\u001b[0m \u001b[39marray([0, 2])\u001b[39;00m\n\u001b[0;32m   5857\u001b[0m \u001b[39m\"\"\"\u001b[39;00m\n\u001b[0;32m   5858\u001b[0m \u001b[39mif\u001b[39;00m \u001b[39mself\u001b[39m\u001b[39m.\u001b[39m_index_as_unique:\n\u001b[1;32m-> 5859\u001b[0m     \u001b[39mreturn\u001b[39;00m \u001b[39mself\u001b[39m\u001b[39m.\u001b[39mget_indexer(target)\n\u001b[0;32m   5860\u001b[0m indexer, _ \u001b[39m=\u001b[39m \u001b[39mself\u001b[39m\u001b[39m.\u001b[39mget_indexer_non_unique(target)\n\u001b[0;32m   5861\u001b[0m \u001b[39mreturn\u001b[39;00m indexer\n",
            "File \u001b[1;32mc:\\Users\\Zain\\anaconda3\\Lib\\site-packages\\pandas\\core\\indexes\\base.py:3798\u001b[0m, in \u001b[0;36mIndex.get_indexer\u001b[1;34m(self, target, method, limit, tolerance)\u001b[0m\n\u001b[0;32m   3796\u001b[0m     this \u001b[39m=\u001b[39m \u001b[39mself\u001b[39m\u001b[39m.\u001b[39mastype(dtype, copy\u001b[39m=\u001b[39m\u001b[39mFalse\u001b[39;00m)\n\u001b[0;32m   3797\u001b[0m     target \u001b[39m=\u001b[39m target\u001b[39m.\u001b[39mastype(dtype, copy\u001b[39m=\u001b[39m\u001b[39mFalse\u001b[39;00m)\n\u001b[1;32m-> 3798\u001b[0m     \u001b[39mreturn\u001b[39;00m this\u001b[39m.\u001b[39m_get_indexer(\n\u001b[0;32m   3799\u001b[0m         target, method\u001b[39m=\u001b[39mmethod, limit\u001b[39m=\u001b[39mlimit, tolerance\u001b[39m=\u001b[39mtolerance\n\u001b[0;32m   3800\u001b[0m     )\n\u001b[0;32m   3802\u001b[0m \u001b[39mreturn\u001b[39;00m \u001b[39mself\u001b[39m\u001b[39m.\u001b[39m_get_indexer(target, method, limit, tolerance)\n",
            "File \u001b[1;32mc:\\Users\\Zain\\anaconda3\\Lib\\site-packages\\pandas\\core\\indexes\\base.py:3829\u001b[0m, in \u001b[0;36mIndex._get_indexer\u001b[1;34m(self, target, method, limit, tolerance)\u001b[0m\n\u001b[0;32m   3826\u001b[0m     \u001b[39melse\u001b[39;00m:\n\u001b[0;32m   3827\u001b[0m         tgt_values \u001b[39m=\u001b[39m target\u001b[39m.\u001b[39m_get_engine_target()\n\u001b[1;32m-> 3829\u001b[0m     indexer \u001b[39m=\u001b[39m \u001b[39mself\u001b[39m\u001b[39m.\u001b[39m_engine\u001b[39m.\u001b[39mget_indexer(tgt_values)\n\u001b[0;32m   3831\u001b[0m \u001b[39mreturn\u001b[39;00m ensure_platform_int(indexer)\n",
            "File \u001b[1;32mc:\\Users\\Zain\\anaconda3\\Lib\\site-packages\\pandas\\_libs\\index.pyx:321\u001b[0m, in \u001b[0;36mpandas._libs.index.IndexEngine.get_indexer\u001b[1;34m()\u001b[0m\n",
            "File \u001b[1;32mpandas\\_libs\\hashtable_class_helper.pxi:7131\u001b[0m, in \u001b[0;36mpandas._libs.hashtable.PyObjectHashTable.lookup\u001b[1;34m()\u001b[0m\n",
            "\u001b[1;31mTypeError\u001b[0m: unhashable type: 'numpy.ndarray'"
          ]
        }
      ],
      "source": [
        "def predict_score(temp_gamedf):\n",
        "    name = 'Call of Duty'\n",
        "    matching_games = gamedf[gamedf['Name'].str.contains(name)]\n",
        "\n",
        "    if matching_games.empty:\n",
        "        print(f\"No games found with a name containing '{name}'.\")\n",
        "        return\n",
        "\n",
        "    new_game = matching_games.iloc[0].to_frame().T\n",
        "    print('Selected Game:', new_game['Name'].values[0])\n",
        "\n",
        "    K = 5\n",
        "    neighbors = getNeighbors(new_game, K, temp_gamedf)\n",
        "    print('\\nRecommended Games:\\n')\n",
        "\n",
        "    for neighbor_info in neighbors:\n",
        "        neighbor_rank, distance = neighbor_info\n",
        "        neighbor_game = gamedf[gamedf['Rank'] == neighbor_rank]\n",
        "        if not neighbor_game.empty:\n",
        "            print(neighbor_game.iloc[0]['Name'])\n",
        "\n",
        "# Call the predict_score function with the temp_gamedf DataFrame\n",
        "predict_score(temp_gamedf)\n"
      ]
    }
  ],
  "metadata": {
    "colab": {
      "provenance": []
    },
    "kernelspec": {
      "display_name": "Python 3 (ipykernel)",
      "language": "python",
      "name": "python3"
    },
    "language_info": {
      "codemirror_mode": {
        "name": "ipython",
        "version": 3
      },
      "file_extension": ".py",
      "mimetype": "text/x-python",
      "name": "python",
      "nbconvert_exporter": "python",
      "pygments_lexer": "ipython3",
      "version": "3.11.5"
    }
  },
  "nbformat": 4,
  "nbformat_minor": 5
}
